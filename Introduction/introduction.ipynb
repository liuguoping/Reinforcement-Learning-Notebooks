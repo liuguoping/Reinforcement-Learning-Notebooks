{
 "cells": [
  {
   "cell_type": "markdown",
   "metadata": {
    "collapsed": true
   },
   "source": [
    "## What is Reinforcement Learning\n",
    "\n",
    "> The most basic idea is simply to capture the most important aspects of the real problem facing\n",
    "a learning ***agent*** interacting with its ***environment*** to achieve a ***goal***.\n"
   ]
  },
  {
   "cell_type": "code",
   "execution_count": null,
   "metadata": {
    "collapsed": true
   },
   "outputs": [],
   "source": []
  },
  {
   "cell_type": "markdown",
   "metadata": {},
   "source": [
    "## Elements of Reinforcement Learning\n",
    "\n",
    "### Four main subelements\n",
    "\n",
    "1. Policy, \n",
    "2. Reward signal, \n",
    "3. Value function, \n",
    "4. Model of the environment(optionally).\n",
    "\n",
    "#### Policy\n",
    "\n",
    "- A policy defines the learning agent's way of behaving at a given time.\n",
    "\n",
    "- A policy is a mapping from perceived states of the environment to actions to be taken when in those states\n",
    "\n",
    "- Policy maybe ***Deterministic or Stochastic***\n",
    "\n",
    "> ***simply says: A policy is a map from state to action***\n",
    "\n",
    "#### Reward\n",
    "\n",
    "- A reward signal defines the goal in a reinforcement learning problem. \n",
    "\n",
    "- On each time step, the ***environment*** sends to the reinforcement learning agent a single number. \n",
    "\n",
    "- A Reward is a ***scalar feedback signal***\n",
    "\n",
    "- Reward signals may be stochastic functions of the state of the environment and the actions taken\n",
    "\n",
    "> ***Reinforcement learning is based on the reward hypothesis***\n",
    "\n",
    "#### Value function\n",
    "\n",
    "- A value function specifies **what is good in the long run**, while the reward signal indicates what is good in an immediate sense\n",
    "\n",
    "- A value function is a **prediction of future reward**\n",
    "\n",
    "- Used to evaluate the goodness/badness of states\n",
    "\n",
    "- Values must be estimated and re-estimated from the sequences of observations an agent makes over its entire lifetime\n",
    "\n",
    "> Roughly speaking, the value of a state is the **total amount of reward an agent can expect** to accumulate over the\n",
    "future, starting from that state\n",
    "\n",
    "> We seek actions that bring about ***states of highest value, not highest reward***, because these actions obtain the greatest amount of reward for us over the long run. **Unfortunately, it is much harder to determine values than it\n",
    "is to determine rewards**. Rewards are basically given directly by the environment, but **values must be estimated and re-estimated from the sequences of observations an agent makes over its entire lifetime**.\n",
    "\n",
    "> In fact, the most important component of almost all reinforcement learning algorithms we consider is a method for efficiently estimating values.\n",
    "\n",
    "#### Model (of the environment)\n",
    "\n",
    "- Agent's representation of the environment\n",
    "\n",
    "- A model predicts what the environment will do next\n",
    "\n",
    "- Given a state and action, the model might predict the resultant **next state and next reward**\n"
   ]
  },
  {
   "cell_type": "code",
   "execution_count": null,
   "metadata": {
    "collapsed": true
   },
   "outputs": [],
   "source": []
  },
  {
   "cell_type": "code",
   "execution_count": null,
   "metadata": {
    "collapsed": true
   },
   "outputs": [],
   "source": []
  }
 ],
 "metadata": {
  "kernelspec": {
   "display_name": "Python 2",
   "language": "python",
   "name": "python2"
  },
  "language_info": {
   "codemirror_mode": {
    "name": "ipython",
    "version": 2
   },
   "file_extension": ".py",
   "mimetype": "text/x-python",
   "name": "python",
   "nbconvert_exporter": "python",
   "pygments_lexer": "ipython2",
   "version": "2.7.10"
  }
 },
 "nbformat": 4,
 "nbformat_minor": 2
}
